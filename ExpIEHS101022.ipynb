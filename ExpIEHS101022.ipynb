{
 "cells": [
  {
   "cell_type": "code",
   "execution_count": 4,
   "metadata": {},
   "outputs": [],
   "source": [
    "import pandas as pd\n",
    "import numpy as np\n",
    "import matplotlib.pyplot as plt\n",
    "import seaborn as sns\n",
    "%matplotlib inline"
   ]
  },
  {
   "cell_type": "code",
   "execution_count": 5,
   "metadata": {},
   "outputs": [
    {
     "data": {
      "text/plain": [
       "(123710, 6)"
      ]
     },
     "execution_count": 5,
     "metadata": {},
     "output_type": "execute_result"
    }
   ],
   "source": [
    "mes_df = pd.read_csv('MES_0622.csv')\n",
    "mes_df.shape"
   ]
  },
  {
   "cell_type": "code",
   "execution_count": 6,
   "metadata": {},
   "outputs": [
    {
     "name": "stdout",
     "output_type": "stream",
     "text": [
      "<class 'pandas.core.frame.DataFrame'>\n",
      "RangeIndex: 123710 entries, 0 to 123709\n",
      "Data columns (total 6 columns):\n",
      " #   Column   Non-Null Count   Dtype  \n",
      "---  ------   --------------   -----  \n",
      " 0   Country  123710 non-null  object \n",
      " 1   Time     123710 non-null  object \n",
      " 2   Balance  123710 non-null  object \n",
      " 3   Product  123710 non-null  object \n",
      " 4   Value    123710 non-null  float64\n",
      " 5   Unit     123710 non-null  object \n",
      "dtypes: float64(1), object(5)\n",
      "memory usage: 5.7+ MB\n"
     ]
    }
   ],
   "source": [
    "mes_df.info()"
   ]
  },
  {
   "cell_type": "code",
   "execution_count": 7,
   "metadata": {},
   "outputs": [
    {
     "data": {
      "text/html": [
       "<div>\n",
       "<style scoped>\n",
       "    .dataframe tbody tr th:only-of-type {\n",
       "        vertical-align: middle;\n",
       "    }\n",
       "\n",
       "    .dataframe tbody tr th {\n",
       "        vertical-align: top;\n",
       "    }\n",
       "\n",
       "    .dataframe thead th {\n",
       "        text-align: right;\n",
       "    }\n",
       "</style>\n",
       "<table border=\"1\" class=\"dataframe\">\n",
       "  <thead>\n",
       "    <tr style=\"text-align: right;\">\n",
       "      <th></th>\n",
       "      <th>Country</th>\n",
       "      <th>Time</th>\n",
       "      <th>Balance</th>\n",
       "      <th>Product</th>\n",
       "      <th>Value</th>\n",
       "      <th>Unit</th>\n",
       "    </tr>\n",
       "  </thead>\n",
       "  <tbody>\n",
       "    <tr>\n",
       "      <th>0</th>\n",
       "      <td>Australia</td>\n",
       "      <td>1/6/2022</td>\n",
       "      <td>Net Electricity Production</td>\n",
       "      <td>Electricity</td>\n",
       "      <td>22902.2860</td>\n",
       "      <td>GWh</td>\n",
       "    </tr>\n",
       "    <tr>\n",
       "      <th>1</th>\n",
       "      <td>Australia</td>\n",
       "      <td>1/6/2022</td>\n",
       "      <td>Net Electricity Production</td>\n",
       "      <td>Total Combustible Fuels</td>\n",
       "      <td>15745.8102</td>\n",
       "      <td>GWh</td>\n",
       "    </tr>\n",
       "    <tr>\n",
       "      <th>2</th>\n",
       "      <td>Australia</td>\n",
       "      <td>1/6/2022</td>\n",
       "      <td>Net Electricity Production</td>\n",
       "      <td>Coal, Peat and Manufactured Gases</td>\n",
       "      <td>10236.5862</td>\n",
       "      <td>GWh</td>\n",
       "    </tr>\n",
       "    <tr>\n",
       "      <th>3</th>\n",
       "      <td>Australia</td>\n",
       "      <td>1/6/2022</td>\n",
       "      <td>Net Electricity Production</td>\n",
       "      <td>Oil and Petroleum Products</td>\n",
       "      <td>340.3700</td>\n",
       "      <td>GWh</td>\n",
       "    </tr>\n",
       "    <tr>\n",
       "      <th>4</th>\n",
       "      <td>Australia</td>\n",
       "      <td>1/6/2022</td>\n",
       "      <td>Net Electricity Production</td>\n",
       "      <td>Natural Gas</td>\n",
       "      <td>4915.8613</td>\n",
       "      <td>GWh</td>\n",
       "    </tr>\n",
       "  </tbody>\n",
       "</table>\n",
       "</div>"
      ],
      "text/plain": [
       "     Country      Time                     Balance  \\\n",
       "0  Australia  1/6/2022  Net Electricity Production   \n",
       "1  Australia  1/6/2022  Net Electricity Production   \n",
       "2  Australia  1/6/2022  Net Electricity Production   \n",
       "3  Australia  1/6/2022  Net Electricity Production   \n",
       "4  Australia  1/6/2022  Net Electricity Production   \n",
       "\n",
       "                             Product       Value Unit  \n",
       "0                        Electricity  22902.2860  GWh  \n",
       "1            Total Combustible Fuels  15745.8102  GWh  \n",
       "2  Coal, Peat and Manufactured Gases  10236.5862  GWh  \n",
       "3         Oil and Petroleum Products    340.3700  GWh  \n",
       "4                        Natural Gas   4915.8613  GWh  "
      ]
     },
     "execution_count": 7,
     "metadata": {},
     "output_type": "execute_result"
    }
   ],
   "source": [
    "mes_df.head()"
   ]
  },
  {
   "cell_type": "code",
   "execution_count": 8,
   "metadata": {},
   "outputs": [
    {
     "data": {
      "text/plain": [
       "53"
      ]
     },
     "execution_count": 8,
     "metadata": {},
     "output_type": "execute_result"
    }
   ],
   "source": [
    "mes_df['Country'].nunique()"
   ]
  },
  {
   "cell_type": "code",
   "execution_count": 9,
   "metadata": {},
   "outputs": [
    {
     "data": {
      "text/plain": [
       "Electricity                                   35658\n",
       "Total Combustible Fuels                        7098\n",
       "Total Renewables (Geo, Solar, Wind, Other)     7098\n",
       "Oil and Petroleum Products                     7020\n",
       "Hydro                                          7016\n",
       "Combustible Renewables                         6988\n",
       "Wind                                           6988\n",
       "Natural Gas                                    6918\n",
       "Solar                                          6826\n",
       "Coal, Peat and Manufactured Gases              6611\n",
       "Other Combustible Non-Renewables               6370\n",
       "Not Specified                                  5547\n",
       "Nuclear                                        5249\n",
       "Geothermal                                     4812\n",
       "Other Renewables                               3511\n",
       "Name: Product, dtype: int64"
      ]
     },
     "execution_count": 9,
     "metadata": {},
     "output_type": "execute_result"
    }
   ],
   "source": [
    "mes_df['Product'].value_counts()"
   ]
  },
  {
   "cell_type": "markdown",
   "metadata": {},
   "source": [
    "There are 53 countries in the dataset"
   ]
  },
  {
   "cell_type": "code",
   "execution_count": 10,
   "metadata": {},
   "outputs": [
    {
     "data": {
      "text/plain": [
       "'1/9/2021'"
      ]
     },
     "execution_count": 10,
     "metadata": {},
     "output_type": "execute_result"
    }
   ],
   "source": [
    "mes_df['Time'].max()"
   ]
  },
  {
   "cell_type": "code",
   "execution_count": 11,
   "metadata": {},
   "outputs": [],
   "source": [
    "#converting Time to datetime format\n",
    "mes_df['Time'] = pd.to_datetime(mes_df['Time'])"
   ]
  },
  {
   "cell_type": "code",
   "execution_count": 12,
   "metadata": {},
   "outputs": [
    {
     "data": {
      "text/plain": [
       "15"
      ]
     },
     "execution_count": 12,
     "metadata": {},
     "output_type": "execute_result"
    }
   ],
   "source": [
    "mes_df['Product'].nunique()"
   ]
  },
  {
   "cell_type": "code",
   "execution_count": 13,
   "metadata": {},
   "outputs": [
    {
     "data": {
      "text/html": [
       "<div>\n",
       "<style scoped>\n",
       "    .dataframe tbody tr th:only-of-type {\n",
       "        vertical-align: middle;\n",
       "    }\n",
       "\n",
       "    .dataframe tbody tr th {\n",
       "        vertical-align: top;\n",
       "    }\n",
       "\n",
       "    .dataframe thead th {\n",
       "        text-align: right;\n",
       "    }\n",
       "</style>\n",
       "<table border=\"1\" class=\"dataframe\">\n",
       "  <thead>\n",
       "    <tr style=\"text-align: right;\">\n",
       "      <th></th>\n",
       "      <th>Country</th>\n",
       "      <th>Time</th>\n",
       "      <th>Balance</th>\n",
       "      <th>Product</th>\n",
       "      <th>Value</th>\n",
       "      <th>Unit</th>\n",
       "    </tr>\n",
       "  </thead>\n",
       "  <tbody>\n",
       "    <tr>\n",
       "      <th>0</th>\n",
       "      <td>Australia</td>\n",
       "      <td>2022-01-06</td>\n",
       "      <td>Net Electricity Production</td>\n",
       "      <td>Electricity</td>\n",
       "      <td>22902.2860</td>\n",
       "      <td>GWh</td>\n",
       "    </tr>\n",
       "    <tr>\n",
       "      <th>1</th>\n",
       "      <td>Australia</td>\n",
       "      <td>2022-01-06</td>\n",
       "      <td>Net Electricity Production</td>\n",
       "      <td>Total Combustible Fuels</td>\n",
       "      <td>15745.8102</td>\n",
       "      <td>GWh</td>\n",
       "    </tr>\n",
       "    <tr>\n",
       "      <th>2</th>\n",
       "      <td>Australia</td>\n",
       "      <td>2022-01-06</td>\n",
       "      <td>Net Electricity Production</td>\n",
       "      <td>Coal, Peat and Manufactured Gases</td>\n",
       "      <td>10236.5862</td>\n",
       "      <td>GWh</td>\n",
       "    </tr>\n",
       "    <tr>\n",
       "      <th>3</th>\n",
       "      <td>Australia</td>\n",
       "      <td>2022-01-06</td>\n",
       "      <td>Net Electricity Production</td>\n",
       "      <td>Oil and Petroleum Products</td>\n",
       "      <td>340.3700</td>\n",
       "      <td>GWh</td>\n",
       "    </tr>\n",
       "    <tr>\n",
       "      <th>4</th>\n",
       "      <td>Australia</td>\n",
       "      <td>2022-01-06</td>\n",
       "      <td>Net Electricity Production</td>\n",
       "      <td>Natural Gas</td>\n",
       "      <td>4915.8613</td>\n",
       "      <td>GWh</td>\n",
       "    </tr>\n",
       "    <tr>\n",
       "      <th>...</th>\n",
       "      <td>...</td>\n",
       "      <td>...</td>\n",
       "      <td>...</td>\n",
       "      <td>...</td>\n",
       "      <td>...</td>\n",
       "      <td>...</td>\n",
       "    </tr>\n",
       "    <tr>\n",
       "      <th>123020</th>\n",
       "      <td>Australia</td>\n",
       "      <td>2010-01-01</td>\n",
       "      <td>Net Electricity Production</td>\n",
       "      <td>Electricity</td>\n",
       "      <td>20739.2270</td>\n",
       "      <td>GWh</td>\n",
       "    </tr>\n",
       "    <tr>\n",
       "      <th>123021</th>\n",
       "      <td>Australia</td>\n",
       "      <td>2010-01-01</td>\n",
       "      <td>Net Electricity Production</td>\n",
       "      <td>Total Combustible Fuels</td>\n",
       "      <td>19289.7300</td>\n",
       "      <td>GWh</td>\n",
       "    </tr>\n",
       "    <tr>\n",
       "      <th>123022</th>\n",
       "      <td>Australia</td>\n",
       "      <td>2010-01-01</td>\n",
       "      <td>Net Electricity Production</td>\n",
       "      <td>Coal, Peat and Manufactured Gases</td>\n",
       "      <td>14796.7760</td>\n",
       "      <td>GWh</td>\n",
       "    </tr>\n",
       "    <tr>\n",
       "      <th>123023</th>\n",
       "      <td>Australia</td>\n",
       "      <td>2010-01-01</td>\n",
       "      <td>Net Electricity Production</td>\n",
       "      <td>Oil and Petroleum Products</td>\n",
       "      <td>732.3020</td>\n",
       "      <td>GWh</td>\n",
       "    </tr>\n",
       "    <tr>\n",
       "      <th>123024</th>\n",
       "      <td>Australia</td>\n",
       "      <td>2010-01-01</td>\n",
       "      <td>Net Electricity Production</td>\n",
       "      <td>Natural Gas</td>\n",
       "      <td>3544.3650</td>\n",
       "      <td>GWh</td>\n",
       "    </tr>\n",
       "  </tbody>\n",
       "</table>\n",
       "<p>750 rows × 6 columns</p>\n",
       "</div>"
      ],
      "text/plain": [
       "          Country       Time                     Balance  \\\n",
       "0       Australia 2022-01-06  Net Electricity Production   \n",
       "1       Australia 2022-01-06  Net Electricity Production   \n",
       "2       Australia 2022-01-06  Net Electricity Production   \n",
       "3       Australia 2022-01-06  Net Electricity Production   \n",
       "4       Australia 2022-01-06  Net Electricity Production   \n",
       "...           ...        ...                         ...   \n",
       "123020  Australia 2010-01-01  Net Electricity Production   \n",
       "123021  Australia 2010-01-01  Net Electricity Production   \n",
       "123022  Australia 2010-01-01  Net Electricity Production   \n",
       "123023  Australia 2010-01-01  Net Electricity Production   \n",
       "123024  Australia 2010-01-01  Net Electricity Production   \n",
       "\n",
       "                                  Product       Value Unit  \n",
       "0                             Electricity  22902.2860  GWh  \n",
       "1                 Total Combustible Fuels  15745.8102  GWh  \n",
       "2       Coal, Peat and Manufactured Gases  10236.5862  GWh  \n",
       "3              Oil and Petroleum Products    340.3700  GWh  \n",
       "4                             Natural Gas   4915.8613  GWh  \n",
       "...                                   ...         ...  ...  \n",
       "123020                        Electricity  20739.2270  GWh  \n",
       "123021            Total Combustible Fuels  19289.7300  GWh  \n",
       "123022  Coal, Peat and Manufactured Gases  14796.7760  GWh  \n",
       "123023         Oil and Petroleum Products    732.3020  GWh  \n",
       "123024                        Natural Gas   3544.3650  GWh  \n",
       "\n",
       "[750 rows x 6 columns]"
      ]
     },
     "execution_count": 13,
     "metadata": {},
     "output_type": "execute_result"
    }
   ],
   "source": [
    "mes_df.groupby('Time').head()"
   ]
  },
  {
   "cell_type": "code",
   "execution_count": 14,
   "metadata": {},
   "outputs": [
    {
     "data": {
      "text/plain": [
       "6"
      ]
     },
     "execution_count": 14,
     "metadata": {},
     "output_type": "execute_result"
    }
   ],
   "source": [
    "mes_df['Balance'].nunique()"
   ]
  },
  {
   "cell_type": "code",
   "execution_count": 15,
   "metadata": {},
   "outputs": [
    {
     "name": "stdout",
     "output_type": "stream",
     "text": [
      "Ireland found\n"
     ]
    }
   ],
   "source": [
    "for i in range(len(mes_df.Country)):\n",
    "    if mes_df.Country[i] == 'Ireland':\n",
    "        print ('Ireland found')\n",
    "        break"
   ]
  },
  {
   "cell_type": "code",
   "execution_count": 16,
   "metadata": {},
   "outputs": [],
   "source": [
    "electricity_df = mes_df.loc[mes_df['Product'] == 'Electricity']"
   ]
  },
  {
   "cell_type": "code",
   "execution_count": 17,
   "metadata": {},
   "outputs": [],
   "source": [
    "ireland_elec = electricity_df.loc[electricity_df['Country'] == 'Ireland']"
   ]
  },
  {
   "cell_type": "code",
   "execution_count": 18,
   "metadata": {},
   "outputs": [
    {
     "data": {
      "text/html": [
       "<div>\n",
       "<style scoped>\n",
       "    .dataframe tbody tr th:only-of-type {\n",
       "        vertical-align: middle;\n",
       "    }\n",
       "\n",
       "    .dataframe tbody tr th {\n",
       "        vertical-align: top;\n",
       "    }\n",
       "\n",
       "    .dataframe thead th {\n",
       "        text-align: right;\n",
       "    }\n",
       "</style>\n",
       "<table border=\"1\" class=\"dataframe\">\n",
       "  <thead>\n",
       "    <tr style=\"text-align: right;\">\n",
       "      <th></th>\n",
       "      <th>Country</th>\n",
       "      <th>Time</th>\n",
       "      <th>Balance</th>\n",
       "      <th>Product</th>\n",
       "      <th>Value</th>\n",
       "      <th>Unit</th>\n",
       "    </tr>\n",
       "  </thead>\n",
       "  <tbody>\n",
       "    <tr>\n",
       "      <th>246</th>\n",
       "      <td>Ireland</td>\n",
       "      <td>2022-01-06</td>\n",
       "      <td>Net Electricity Production</td>\n",
       "      <td>Electricity</td>\n",
       "      <td>2604.7124</td>\n",
       "      <td>GWh</td>\n",
       "    </tr>\n",
       "    <tr>\n",
       "      <th>257</th>\n",
       "      <td>Ireland</td>\n",
       "      <td>2022-01-06</td>\n",
       "      <td>Total Imports</td>\n",
       "      <td>Electricity</td>\n",
       "      <td>129.8756</td>\n",
       "      <td>GWh</td>\n",
       "    </tr>\n",
       "    <tr>\n",
       "      <th>258</th>\n",
       "      <td>Ireland</td>\n",
       "      <td>2022-01-06</td>\n",
       "      <td>Total Exports</td>\n",
       "      <td>Electricity</td>\n",
       "      <td>65.0647</td>\n",
       "      <td>GWh</td>\n",
       "    </tr>\n",
       "    <tr>\n",
       "      <th>259</th>\n",
       "      <td>Ireland</td>\n",
       "      <td>2022-01-06</td>\n",
       "      <td>Used for pumped storage</td>\n",
       "      <td>Electricity</td>\n",
       "      <td>15.3475</td>\n",
       "      <td>GWh</td>\n",
       "    </tr>\n",
       "    <tr>\n",
       "      <th>260</th>\n",
       "      <td>Ireland</td>\n",
       "      <td>2022-01-06</td>\n",
       "      <td>Distribution Losses</td>\n",
       "      <td>Electricity</td>\n",
       "      <td>196.3551</td>\n",
       "      <td>GWh</td>\n",
       "    </tr>\n",
       "  </tbody>\n",
       "</table>\n",
       "</div>"
      ],
      "text/plain": [
       "     Country       Time                     Balance      Product      Value  \\\n",
       "246  Ireland 2022-01-06  Net Electricity Production  Electricity  2604.7124   \n",
       "257  Ireland 2022-01-06               Total Imports  Electricity   129.8756   \n",
       "258  Ireland 2022-01-06               Total Exports  Electricity    65.0647   \n",
       "259  Ireland 2022-01-06     Used for pumped storage  Electricity    15.3475   \n",
       "260  Ireland 2022-01-06         Distribution Losses  Electricity   196.3551   \n",
       "\n",
       "    Unit  \n",
       "246  GWh  \n",
       "257  GWh  \n",
       "258  GWh  \n",
       "259  GWh  \n",
       "260  GWh  "
      ]
     },
     "execution_count": 18,
     "metadata": {},
     "output_type": "execute_result"
    }
   ],
   "source": [
    "ireland_elec.head()"
   ]
  },
  {
   "cell_type": "code",
   "execution_count": 19,
   "metadata": {},
   "outputs": [
    {
     "data": {
      "text/html": [
       "<div>\n",
       "<style scoped>\n",
       "    .dataframe tbody tr th:only-of-type {\n",
       "        vertical-align: middle;\n",
       "    }\n",
       "\n",
       "    .dataframe tbody tr th {\n",
       "        vertical-align: top;\n",
       "    }\n",
       "\n",
       "    .dataframe thead th {\n",
       "        text-align: right;\n",
       "    }\n",
       "</style>\n",
       "<table border=\"1\" class=\"dataframe\">\n",
       "  <thead>\n",
       "    <tr style=\"text-align: right;\">\n",
       "      <th></th>\n",
       "      <th>Country</th>\n",
       "      <th>Time</th>\n",
       "      <th>Balance</th>\n",
       "      <th>Product</th>\n",
       "      <th>Value</th>\n",
       "      <th>Unit</th>\n",
       "    </tr>\n",
       "  </thead>\n",
       "  <tbody>\n",
       "    <tr>\n",
       "      <th>246</th>\n",
       "      <td>Ireland</td>\n",
       "      <td>2022-01-06</td>\n",
       "      <td>Net Electricity Production</td>\n",
       "      <td>Electricity</td>\n",
       "      <td>2604.7124</td>\n",
       "      <td>GWh</td>\n",
       "    </tr>\n",
       "    <tr>\n",
       "      <th>257</th>\n",
       "      <td>Ireland</td>\n",
       "      <td>2022-01-06</td>\n",
       "      <td>Total Imports</td>\n",
       "      <td>Electricity</td>\n",
       "      <td>129.8756</td>\n",
       "      <td>GWh</td>\n",
       "    </tr>\n",
       "    <tr>\n",
       "      <th>258</th>\n",
       "      <td>Ireland</td>\n",
       "      <td>2022-01-06</td>\n",
       "      <td>Total Exports</td>\n",
       "      <td>Electricity</td>\n",
       "      <td>65.0647</td>\n",
       "      <td>GWh</td>\n",
       "    </tr>\n",
       "    <tr>\n",
       "      <th>259</th>\n",
       "      <td>Ireland</td>\n",
       "      <td>2022-01-06</td>\n",
       "      <td>Used for pumped storage</td>\n",
       "      <td>Electricity</td>\n",
       "      <td>15.3475</td>\n",
       "      <td>GWh</td>\n",
       "    </tr>\n",
       "    <tr>\n",
       "      <th>260</th>\n",
       "      <td>Ireland</td>\n",
       "      <td>2022-01-06</td>\n",
       "      <td>Distribution Losses</td>\n",
       "      <td>Electricity</td>\n",
       "      <td>196.3551</td>\n",
       "      <td>GWh</td>\n",
       "    </tr>\n",
       "    <tr>\n",
       "      <th>261</th>\n",
       "      <td>Ireland</td>\n",
       "      <td>2022-01-06</td>\n",
       "      <td>Final Consumption (Calculated)</td>\n",
       "      <td>Electricity</td>\n",
       "      <td>2457.8207</td>\n",
       "      <td>GWh</td>\n",
       "    </tr>\n",
       "  </tbody>\n",
       "</table>\n",
       "</div>"
      ],
      "text/plain": [
       "     Country       Time                         Balance      Product  \\\n",
       "246  Ireland 2022-01-06      Net Electricity Production  Electricity   \n",
       "257  Ireland 2022-01-06                   Total Imports  Electricity   \n",
       "258  Ireland 2022-01-06                   Total Exports  Electricity   \n",
       "259  Ireland 2022-01-06         Used for pumped storage  Electricity   \n",
       "260  Ireland 2022-01-06             Distribution Losses  Electricity   \n",
       "261  Ireland 2022-01-06  Final Consumption (Calculated)  Electricity   \n",
       "\n",
       "         Value Unit  \n",
       "246  2604.7124  GWh  \n",
       "257   129.8756  GWh  \n",
       "258    65.0647  GWh  \n",
       "259    15.3475  GWh  \n",
       "260   196.3551  GWh  \n",
       "261  2457.8207  GWh  "
      ]
     },
     "execution_count": 19,
     "metadata": {},
     "output_type": "execute_result"
    }
   ],
   "source": [
    "ireland_elec.loc[ireland_elec['Time'] == '2022-01-06']"
   ]
  },
  {
   "cell_type": "code",
   "execution_count": 20,
   "metadata": {},
   "outputs": [],
   "source": [
    "#grouped df for electricity in Ireland\n",
    "ie_time_elec  = ireland_elec.groupby([pd.Grouper(key='Time', freq='M'), 'Balance']).agg(total_energy=('Value', 'sum'))"
   ]
  },
  {
   "cell_type": "code",
   "execution_count": 21,
   "metadata": {},
   "outputs": [
    {
     "name": "stdout",
     "output_type": "stream",
     "text": [
      "<class 'pandas.core.frame.DataFrame'>\n",
      "MultiIndex: 78 entries, (Timestamp('2010-01-31 00:00:00', freq='M'), 'Distribution Losses') to (Timestamp('2022-01-31 00:00:00', freq='M'), 'Used for pumped storage')\n",
      "Data columns (total 1 columns):\n",
      " #   Column        Non-Null Count  Dtype  \n",
      "---  ------        --------------  -----  \n",
      " 0   total_energy  78 non-null     float64\n",
      "dtypes: float64(1)\n",
      "memory usage: 2.1+ KB\n"
     ]
    }
   ],
   "source": [
    "ie_time_elec.info()"
   ]
  },
  {
   "cell_type": "code",
   "execution_count": 22,
   "metadata": {},
   "outputs": [],
   "source": [
    "ax = ie_time_elec.unstack()"
   ]
  },
  {
   "cell_type": "code",
   "execution_count": 23,
   "metadata": {},
   "outputs": [
    {
     "data": {
      "image/png": "[encoded data removed]",
      "text/plain": [
       "<Figure size 1200x800 with 1 Axes>"
      ]
     },
     "metadata": {},
     "output_type": "display_data"
    }
   ],
   "source": [
    "ax.plot(y = 'total_energy', kind='bar', figsize=(12,8));"
   ]
  },
  {
   "cell_type": "code",
   "execution_count": 24,
   "metadata": {},
   "outputs": [],
   "source": [
    "ireland_df = mes_df.loc[mes_df['Country'] == 'Ireland']"
   ]
  },
  {
   "cell_type": "code",
   "execution_count": 25,
   "metadata": {},
   "outputs": [
    {
     "name": "stdout",
     "output_type": "stream",
     "text": [
      "<class 'pandas.core.frame.DataFrame'>\n",
      "Int64Index: 2568 entries, 246 to 123257\n",
      "Data columns (total 6 columns):\n",
      " #   Column   Non-Null Count  Dtype         \n",
      "---  ------   --------------  -----         \n",
      " 0   Country  2568 non-null   object        \n",
      " 1   Time     2568 non-null   datetime64[ns]\n",
      " 2   Balance  2568 non-null   object        \n",
      " 3   Product  2568 non-null   object        \n",
      " 4   Value    2568 non-null   float64       \n",
      " 5   Unit     2568 non-null   object        \n",
      "dtypes: datetime64[ns](1), float64(1), object(4)\n",
      "memory usage: 140.4+ KB\n"
     ]
    }
   ],
   "source": [
    "ireland_df.info()"
   ]
  },
  {
   "cell_type": "code",
   "execution_count": 32,
   "metadata": {},
   "outputs": [],
   "source": [
    "ireland_renewables = ireland_df.loc[ireland_df['Product'] == 'Total Renewables (Geo, Solar, Wind, Other)']"
   ]
  },
  {
   "cell_type": "code",
   "execution_count": 31,
   "metadata": {},
   "outputs": [
    {
     "name": "stdout",
     "output_type": "stream",
     "text": [
      "<class 'pandas.core.frame.DataFrame'>\n",
      "Int64Index: 150 entries, 256 to 123252\n",
      "Data columns (total 6 columns):\n",
      " #   Column   Non-Null Count  Dtype         \n",
      "---  ------   --------------  -----         \n",
      " 0   Country  150 non-null    object        \n",
      " 1   Time     150 non-null    datetime64[ns]\n",
      " 2   Balance  150 non-null    object        \n",
      " 3   Product  150 non-null    object        \n",
      " 4   Value    150 non-null    float64       \n",
      " 5   Unit     150 non-null    object        \n",
      "dtypes: datetime64[ns](1), float64(1), object(4)\n",
      "memory usage: 8.2+ KB\n"
     ]
    }
   ],
   "source": [
    "ireland_renewables.info()"
   ]
  },
  {
   "cell_type": "code",
   "execution_count": 33,
   "metadata": {},
   "outputs": [],
   "source": [
    "#grouped df for renewables in Ireland\n",
    "grouped_ren_df = ireland_renewables.groupby([pd.Grouper(key='Time', freq='M'), 'Balance']).agg(total_energy=('Value', 'mean'))"
   ]
  },
  {
   "cell_type": "code",
   "execution_count": 34,
   "metadata": {},
   "outputs": [],
   "source": [
    "unstacked_ie_df = grouped_ren_df.unstack()"
   ]
  },
  {
   "cell_type": "code",
   "execution_count": 35,
   "metadata": {},
   "outputs": [
    {
     "data": {
      "text/html": [
       "<div>\n",
       "<style scoped>\n",
       "    .dataframe tbody tr th:only-of-type {\n",
       "        vertical-align: middle;\n",
       "    }\n",
       "\n",
       "    .dataframe tbody tr th {\n",
       "        vertical-align: top;\n",
       "    }\n",
       "\n",
       "    .dataframe thead tr th {\n",
       "        text-align: left;\n",
       "    }\n",
       "\n",
       "    .dataframe thead tr:last-of-type th {\n",
       "        text-align: right;\n",
       "    }\n",
       "</style>\n",
       "<table border=\"1\" class=\"dataframe\">\n",
       "  <thead>\n",
       "    <tr>\n",
       "      <th></th>\n",
       "      <th>total_energy</th>\n",
       "    </tr>\n",
       "    <tr>\n",
       "      <th>Balance</th>\n",
       "      <th>Net Electricity Production</th>\n",
       "    </tr>\n",
       "    <tr>\n",
       "      <th>Time</th>\n",
       "      <th></th>\n",
       "    </tr>\n",
       "  </thead>\n",
       "  <tbody>\n",
       "    <tr>\n",
       "      <th>2010-01-31</th>\n",
       "      <td>323.842167</td>\n",
       "    </tr>\n",
       "    <tr>\n",
       "      <th>2011-01-31</th>\n",
       "      <td>450.350500</td>\n",
       "    </tr>\n",
       "    <tr>\n",
       "      <th>2012-01-31</th>\n",
       "      <td>453.361750</td>\n",
       "    </tr>\n",
       "    <tr>\n",
       "      <th>2013-01-31</th>\n",
       "      <td>495.301500</td>\n",
       "    </tr>\n",
       "    <tr>\n",
       "      <th>2014-01-31</th>\n",
       "      <td>553.354000</td>\n",
       "    </tr>\n",
       "  </tbody>\n",
       "</table>\n",
       "</div>"
      ],
      "text/plain": [
       "                         total_energy\n",
       "Balance    Net Electricity Production\n",
       "Time                                 \n",
       "2010-01-31                 323.842167\n",
       "2011-01-31                 450.350500\n",
       "2012-01-31                 453.361750\n",
       "2013-01-31                 495.301500\n",
       "2014-01-31                 553.354000"
      ]
     },
     "execution_count": 35,
     "metadata": {},
     "output_type": "execute_result"
    }
   ],
   "source": [
    "unstacked_ie_df.head()"
   ]
  },
  {
   "cell_type": "code",
   "execution_count": 39,
   "metadata": {},
   "outputs": [
    {
     "ename": "ValueError",
     "evalue": "Data must be 1-dimensional",
     "output_type": "error",
     "traceback": [
      "\u001b[1;31m---------------------------------------------------------------------------\u001b[0m",
      "\u001b[1;31mValueError\u001b[0m                                Traceback (most recent call last)",
      "\u001b[1;32mc:\\Users\\Siba785\\Documents\\github\\international-energy-statistics-analysis\\ExpIEHS101022.ipynb Cell 29\u001b[0m in \u001b[0;36m<cell line: 1>\u001b[1;34m()\u001b[0m\n\u001b[1;32m----> <a href='vscode-notebook-cell:/c%3A/Users/Siba785/Documents/github/international-energy-statistics-analysis/ExpIEHS101022.ipynb#X35sZmlsZQ%3D%3D?line=0'>1</a>\u001b[0m sns\u001b[39m.\u001b[39;49mlineplot(\n\u001b[0;32m      <a href='vscode-notebook-cell:/c%3A/Users/Siba785/Documents/github/international-energy-statistics-analysis/ExpIEHS101022.ipynb#X35sZmlsZQ%3D%3D?line=1'>2</a>\u001b[0m     data \u001b[39m=\u001b[39;49m unstacked_ie_df,\n\u001b[0;32m      <a href='vscode-notebook-cell:/c%3A/Users/Siba785/Documents/github/international-energy-statistics-analysis/ExpIEHS101022.ipynb#X35sZmlsZQ%3D%3D?line=2'>3</a>\u001b[0m     x \u001b[39m=\u001b[39;49m \u001b[39m'\u001b[39;49m\u001b[39mTime\u001b[39;49m\u001b[39m'\u001b[39;49m,\n\u001b[0;32m      <a href='vscode-notebook-cell:/c%3A/Users/Siba785/Documents/github/international-energy-statistics-analysis/ExpIEHS101022.ipynb#X35sZmlsZQ%3D%3D?line=3'>4</a>\u001b[0m     y \u001b[39m=\u001b[39;49m \u001b[39m'\u001b[39;49m\u001b[39mtotal_energy\u001b[39;49m\u001b[39m'\u001b[39;49m\n\u001b[0;32m      <a href='vscode-notebook-cell:/c%3A/Users/Siba785/Documents/github/international-energy-statistics-analysis/ExpIEHS101022.ipynb#X35sZmlsZQ%3D%3D?line=4'>5</a>\u001b[0m )\n",
      "File \u001b[1;32mc:\\Users\\Siba785\\Anaconda3\\envs\\min_data_sci\\lib\\site-packages\\seaborn\\relational.py:612\u001b[0m, in \u001b[0;36mlineplot\u001b[1;34m(data, x, y, hue, size, style, units, palette, hue_order, hue_norm, sizes, size_order, size_norm, dashes, markers, style_order, estimator, errorbar, n_boot, seed, orient, sort, err_style, err_kws, legend, ci, ax, **kwargs)\u001b[0m\n\u001b[0;32m    609\u001b[0m errorbar \u001b[39m=\u001b[39m _deprecate_ci(errorbar, ci)\n\u001b[0;32m    611\u001b[0m variables \u001b[39m=\u001b[39m _LinePlotter\u001b[39m.\u001b[39mget_semantics(\u001b[39mlocals\u001b[39m())\n\u001b[1;32m--> 612\u001b[0m p \u001b[39m=\u001b[39m _LinePlotter(\n\u001b[0;32m    613\u001b[0m     data\u001b[39m=\u001b[39;49mdata, variables\u001b[39m=\u001b[39;49mvariables,\n\u001b[0;32m    614\u001b[0m     estimator\u001b[39m=\u001b[39;49mestimator, n_boot\u001b[39m=\u001b[39;49mn_boot, seed\u001b[39m=\u001b[39;49mseed, errorbar\u001b[39m=\u001b[39;49merrorbar,\n\u001b[0;32m    615\u001b[0m     sort\u001b[39m=\u001b[39;49msort, orient\u001b[39m=\u001b[39;49morient, err_style\u001b[39m=\u001b[39;49merr_style, err_kws\u001b[39m=\u001b[39;49merr_kws,\n\u001b[0;32m    616\u001b[0m     legend\u001b[39m=\u001b[39;49mlegend,\n\u001b[0;32m    617\u001b[0m )\n\u001b[0;32m    619\u001b[0m p\u001b[39m.\u001b[39mmap_hue(palette\u001b[39m=\u001b[39mpalette, order\u001b[39m=\u001b[39mhue_order, norm\u001b[39m=\u001b[39mhue_norm)\n\u001b[0;32m    620\u001b[0m p\u001b[39m.\u001b[39mmap_size(sizes\u001b[39m=\u001b[39msizes, order\u001b[39m=\u001b[39msize_order, norm\u001b[39m=\u001b[39msize_norm)\n",
      "File \u001b[1;32mc:\\Users\\Siba785\\Anaconda3\\envs\\min_data_sci\\lib\\site-packages\\seaborn\\relational.py:365\u001b[0m, in \u001b[0;36m_LinePlotter.__init__\u001b[1;34m(self, data, variables, estimator, n_boot, seed, errorbar, sort, orient, err_style, err_kws, legend)\u001b[0m\n\u001b[0;32m    351\u001b[0m \u001b[39mdef\u001b[39;00m \u001b[39m__init__\u001b[39m(\n\u001b[0;32m    352\u001b[0m     \u001b[39mself\u001b[39m, \u001b[39m*\u001b[39m,\n\u001b[0;32m    353\u001b[0m     data\u001b[39m=\u001b[39m\u001b[39mNone\u001b[39;00m, variables\u001b[39m=\u001b[39m{},\n\u001b[1;32m   (...)\u001b[0m\n\u001b[0;32m    359\u001b[0m     \u001b[39m# the kind of plot to draw, but for the time being we need to set\u001b[39;00m\n\u001b[0;32m    360\u001b[0m     \u001b[39m# this information so the SizeMapping can use it\u001b[39;00m\n\u001b[0;32m    361\u001b[0m     \u001b[39mself\u001b[39m\u001b[39m.\u001b[39m_default_size_range \u001b[39m=\u001b[39m (\n\u001b[0;32m    362\u001b[0m         np\u001b[39m.\u001b[39mr_[\u001b[39m.5\u001b[39m, \u001b[39m2\u001b[39m] \u001b[39m*\u001b[39m mpl\u001b[39m.\u001b[39mrcParams[\u001b[39m\"\u001b[39m\u001b[39mlines.linewidth\u001b[39m\u001b[39m\"\u001b[39m]\n\u001b[0;32m    363\u001b[0m     )\n\u001b[1;32m--> 365\u001b[0m     \u001b[39msuper\u001b[39;49m()\u001b[39m.\u001b[39;49m\u001b[39m__init__\u001b[39;49m(data\u001b[39m=\u001b[39;49mdata, variables\u001b[39m=\u001b[39;49mvariables)\n\u001b[0;32m    367\u001b[0m     \u001b[39mself\u001b[39m\u001b[39m.\u001b[39mestimator \u001b[39m=\u001b[39m estimator\n\u001b[0;32m    368\u001b[0m     \u001b[39mself\u001b[39m\u001b[39m.\u001b[39merrorbar \u001b[39m=\u001b[39m errorbar\n",
      "File \u001b[1;32mc:\\Users\\Siba785\\Anaconda3\\envs\\min_data_sci\\lib\\site-packages\\seaborn\\_oldcore.py:640\u001b[0m, in \u001b[0;36mVectorPlotter.__init__\u001b[1;34m(self, data, variables)\u001b[0m\n\u001b[0;32m    635\u001b[0m \u001b[39m# var_ordered is relevant only for categorical axis variables, and may\u001b[39;00m\n\u001b[0;32m    636\u001b[0m \u001b[39m# be better handled by an internal axis information object that tracks\u001b[39;00m\n\u001b[0;32m    637\u001b[0m \u001b[39m# such information and is set up by the scale_* methods. The analogous\u001b[39;00m\n\u001b[0;32m    638\u001b[0m \u001b[39m# information for numeric axes would be information about log scales.\u001b[39;00m\n\u001b[0;32m    639\u001b[0m \u001b[39mself\u001b[39m\u001b[39m.\u001b[39m_var_ordered \u001b[39m=\u001b[39m {\u001b[39m\"\u001b[39m\u001b[39mx\u001b[39m\u001b[39m\"\u001b[39m: \u001b[39mFalse\u001b[39;00m, \u001b[39m\"\u001b[39m\u001b[39my\u001b[39m\u001b[39m\"\u001b[39m: \u001b[39mFalse\u001b[39;00m}  \u001b[39m# alt., used DefaultDict\u001b[39;00m\n\u001b[1;32m--> 640\u001b[0m \u001b[39mself\u001b[39;49m\u001b[39m.\u001b[39;49massign_variables(data, variables)\n\u001b[0;32m    642\u001b[0m \u001b[39mfor\u001b[39;00m var, \u001b[39mcls\u001b[39m \u001b[39min\u001b[39;00m \u001b[39mself\u001b[39m\u001b[39m.\u001b[39m_semantic_mappings\u001b[39m.\u001b[39mitems():\n\u001b[0;32m    643\u001b[0m \n\u001b[0;32m    644\u001b[0m     \u001b[39m# Create the mapping function\u001b[39;00m\n\u001b[0;32m    645\u001b[0m     map_func \u001b[39m=\u001b[39m partial(\u001b[39mcls\u001b[39m\u001b[39m.\u001b[39mmap, plotter\u001b[39m=\u001b[39m\u001b[39mself\u001b[39m)\n",
      "File \u001b[1;32mc:\\Users\\Siba785\\Anaconda3\\envs\\min_data_sci\\lib\\site-packages\\seaborn\\_oldcore.py:701\u001b[0m, in \u001b[0;36mVectorPlotter.assign_variables\u001b[1;34m(self, data, variables)\u001b[0m\n\u001b[0;32m    699\u001b[0m \u001b[39melse\u001b[39;00m:\n\u001b[0;32m    700\u001b[0m     \u001b[39mself\u001b[39m\u001b[39m.\u001b[39minput_format \u001b[39m=\u001b[39m \u001b[39m\"\u001b[39m\u001b[39mlong\u001b[39m\u001b[39m\"\u001b[39m\n\u001b[1;32m--> 701\u001b[0m     plot_data, variables \u001b[39m=\u001b[39m \u001b[39mself\u001b[39m\u001b[39m.\u001b[39m_assign_variables_longform(\n\u001b[0;32m    702\u001b[0m         data, \u001b[39m*\u001b[39m\u001b[39m*\u001b[39mvariables,\n\u001b[0;32m    703\u001b[0m     )\n\u001b[0;32m    705\u001b[0m \u001b[39mself\u001b[39m\u001b[39m.\u001b[39mplot_data \u001b[39m=\u001b[39m plot_data\n\u001b[0;32m    706\u001b[0m \u001b[39mself\u001b[39m\u001b[39m.\u001b[39mvariables \u001b[39m=\u001b[39m variables\n",
      "File \u001b[1;32mc:\\Users\\Siba785\\Anaconda3\\envs\\min_data_sci\\lib\\site-packages\\seaborn\\_oldcore.py:962\u001b[0m, in \u001b[0;36mVectorPlotter._assign_variables_longform\u001b[1;34m(self, data, **kwargs)\u001b[0m\n\u001b[0;32m    958\u001b[0m         variables[key] \u001b[39m=\u001b[39m \u001b[39mgetattr\u001b[39m(val, \u001b[39m\"\u001b[39m\u001b[39mname\u001b[39m\u001b[39m\"\u001b[39m, \u001b[39mNone\u001b[39;00m)\n\u001b[0;32m    960\u001b[0m \u001b[39m# Construct a tidy plot DataFrame. This will convert a number of\u001b[39;00m\n\u001b[0;32m    961\u001b[0m \u001b[39m# types automatically, aligning on index in case of pandas objects\u001b[39;00m\n\u001b[1;32m--> 962\u001b[0m plot_data \u001b[39m=\u001b[39m pd\u001b[39m.\u001b[39;49mDataFrame(plot_data)\n\u001b[0;32m    964\u001b[0m \u001b[39m# Reduce the variables dictionary to fields with valid data\u001b[39;00m\n\u001b[0;32m    965\u001b[0m variables \u001b[39m=\u001b[39m {\n\u001b[0;32m    966\u001b[0m     var: name\n\u001b[0;32m    967\u001b[0m     \u001b[39mfor\u001b[39;00m var, name \u001b[39min\u001b[39;00m variables\u001b[39m.\u001b[39mitems()\n\u001b[0;32m    968\u001b[0m     \u001b[39mif\u001b[39;00m plot_data[var]\u001b[39m.\u001b[39mnotnull()\u001b[39m.\u001b[39many()\n\u001b[0;32m    969\u001b[0m }\n",
      "File \u001b[1;32mc:\\Users\\Siba785\\Anaconda3\\envs\\min_data_sci\\lib\\site-packages\\pandas\\core\\frame.py:636\u001b[0m, in \u001b[0;36mDataFrame.__init__\u001b[1;34m(self, data, index, columns, dtype, copy)\u001b[0m\n\u001b[0;32m    630\u001b[0m     mgr \u001b[39m=\u001b[39m \u001b[39mself\u001b[39m\u001b[39m.\u001b[39m_init_mgr(\n\u001b[0;32m    631\u001b[0m         data, axes\u001b[39m=\u001b[39m{\u001b[39m\"\u001b[39m\u001b[39mindex\u001b[39m\u001b[39m\"\u001b[39m: index, \u001b[39m\"\u001b[39m\u001b[39mcolumns\u001b[39m\u001b[39m\"\u001b[39m: columns}, dtype\u001b[39m=\u001b[39mdtype, copy\u001b[39m=\u001b[39mcopy\n\u001b[0;32m    632\u001b[0m     )\n\u001b[0;32m    634\u001b[0m \u001b[39melif\u001b[39;00m \u001b[39misinstance\u001b[39m(data, \u001b[39mdict\u001b[39m):\n\u001b[0;32m    635\u001b[0m     \u001b[39m# GH#38939 de facto copy defaults to False only in non-dict cases\u001b[39;00m\n\u001b[1;32m--> 636\u001b[0m     mgr \u001b[39m=\u001b[39m dict_to_mgr(data, index, columns, dtype\u001b[39m=\u001b[39;49mdtype, copy\u001b[39m=\u001b[39;49mcopy, typ\u001b[39m=\u001b[39;49mmanager)\n\u001b[0;32m    637\u001b[0m \u001b[39melif\u001b[39;00m \u001b[39misinstance\u001b[39m(data, ma\u001b[39m.\u001b[39mMaskedArray):\n\u001b[0;32m    638\u001b[0m     \u001b[39mimport\u001b[39;00m \u001b[39mnumpy\u001b[39;00m\u001b[39m.\u001b[39;00m\u001b[39mma\u001b[39;00m\u001b[39m.\u001b[39;00m\u001b[39mmrecords\u001b[39;00m \u001b[39mas\u001b[39;00m \u001b[39mmrecords\u001b[39;00m\n",
      "File \u001b[1;32mc:\\Users\\Siba785\\Anaconda3\\envs\\min_data_sci\\lib\\site-packages\\pandas\\core\\internals\\construction.py:502\u001b[0m, in \u001b[0;36mdict_to_mgr\u001b[1;34m(data, index, columns, dtype, typ, copy)\u001b[0m\n\u001b[0;32m    494\u001b[0m     arrays \u001b[39m=\u001b[39m [\n\u001b[0;32m    495\u001b[0m         x\n\u001b[0;32m    496\u001b[0m         \u001b[39mif\u001b[39;00m \u001b[39mnot\u001b[39;00m \u001b[39mhasattr\u001b[39m(x, \u001b[39m\"\u001b[39m\u001b[39mdtype\u001b[39m\u001b[39m\"\u001b[39m) \u001b[39mor\u001b[39;00m \u001b[39mnot\u001b[39;00m \u001b[39misinstance\u001b[39m(x\u001b[39m.\u001b[39mdtype, ExtensionDtype)\n\u001b[0;32m    497\u001b[0m         \u001b[39melse\u001b[39;00m x\u001b[39m.\u001b[39mcopy()\n\u001b[0;32m    498\u001b[0m         \u001b[39mfor\u001b[39;00m x \u001b[39min\u001b[39;00m arrays\n\u001b[0;32m    499\u001b[0m     ]\n\u001b[0;32m    500\u001b[0m     \u001b[39m# TODO: can we get rid of the dt64tz special case above?\u001b[39;00m\n\u001b[1;32m--> 502\u001b[0m \u001b[39mreturn\u001b[39;00m arrays_to_mgr(arrays, columns, index, dtype\u001b[39m=\u001b[39;49mdtype, typ\u001b[39m=\u001b[39;49mtyp, consolidate\u001b[39m=\u001b[39;49mcopy)\n",
      "File \u001b[1;32mc:\\Users\\Siba785\\Anaconda3\\envs\\min_data_sci\\lib\\site-packages\\pandas\\core\\internals\\construction.py:125\u001b[0m, in \u001b[0;36marrays_to_mgr\u001b[1;34m(arrays, columns, index, dtype, verify_integrity, typ, consolidate)\u001b[0m\n\u001b[0;32m    122\u001b[0m         index \u001b[39m=\u001b[39m ensure_index(index)\n\u001b[0;32m    124\u001b[0m     \u001b[39m# don't force copy because getting jammed in an ndarray anyway\u001b[39;00m\n\u001b[1;32m--> 125\u001b[0m     arrays \u001b[39m=\u001b[39m _homogenize(arrays, index, dtype)\n\u001b[0;32m    126\u001b[0m     \u001b[39m# _homogenize ensures\u001b[39;00m\n\u001b[0;32m    127\u001b[0m     \u001b[39m#  - all(len(x) == len(index) for x in arrays)\u001b[39;00m\n\u001b[0;32m    128\u001b[0m     \u001b[39m#  - all(x.ndim == 1 for x in arrays)\u001b[39;00m\n\u001b[1;32m   (...)\u001b[0m\n\u001b[0;32m    131\u001b[0m \n\u001b[0;32m    132\u001b[0m \u001b[39melse\u001b[39;00m:\n\u001b[0;32m    133\u001b[0m     index \u001b[39m=\u001b[39m ensure_index(index)\n",
      "File \u001b[1;32mc:\\Users\\Siba785\\Anaconda3\\envs\\min_data_sci\\lib\\site-packages\\pandas\\core\\internals\\construction.py:625\u001b[0m, in \u001b[0;36m_homogenize\u001b[1;34m(data, index, dtype)\u001b[0m\n\u001b[0;32m    622\u001b[0m             val \u001b[39m=\u001b[39m \u001b[39mdict\u001b[39m(val)\n\u001b[0;32m    623\u001b[0m         val \u001b[39m=\u001b[39m lib\u001b[39m.\u001b[39mfast_multiget(val, oindex\u001b[39m.\u001b[39m_values, default\u001b[39m=\u001b[39mnp\u001b[39m.\u001b[39mnan)\n\u001b[1;32m--> 625\u001b[0m     val \u001b[39m=\u001b[39m sanitize_array(\n\u001b[0;32m    626\u001b[0m         val, index, dtype\u001b[39m=\u001b[39;49mdtype, copy\u001b[39m=\u001b[39;49m\u001b[39mFalse\u001b[39;49;00m, raise_cast_failure\u001b[39m=\u001b[39;49m\u001b[39mFalse\u001b[39;49;00m\n\u001b[0;32m    627\u001b[0m     )\n\u001b[0;32m    628\u001b[0m     com\u001b[39m.\u001b[39mrequire_length_match(val, index)\n\u001b[0;32m    630\u001b[0m homogenized\u001b[39m.\u001b[39mappend(val)\n",
      "File \u001b[1;32mc:\\Users\\Siba785\\Anaconda3\\envs\\min_data_sci\\lib\\site-packages\\pandas\\core\\construction.py:601\u001b[0m, in \u001b[0;36msanitize_array\u001b[1;34m(data, index, dtype, copy, raise_cast_failure, allow_2d)\u001b[0m\n\u001b[0;32m    598\u001b[0m             subarr \u001b[39m=\u001b[39m cast(np\u001b[39m.\u001b[39mndarray, subarr)\n\u001b[0;32m    599\u001b[0m             subarr \u001b[39m=\u001b[39m maybe_infer_to_datetimelike(subarr)\n\u001b[1;32m--> 601\u001b[0m subarr \u001b[39m=\u001b[39m _sanitize_ndim(subarr, data, dtype, index, allow_2d\u001b[39m=\u001b[39;49mallow_2d)\n\u001b[0;32m    603\u001b[0m \u001b[39mif\u001b[39;00m \u001b[39misinstance\u001b[39m(subarr, np\u001b[39m.\u001b[39mndarray):\n\u001b[0;32m    604\u001b[0m     \u001b[39m# at this point we should have dtype be None or subarr.dtype == dtype\u001b[39;00m\n\u001b[0;32m    605\u001b[0m     dtype \u001b[39m=\u001b[39m cast(np\u001b[39m.\u001b[39mdtype, dtype)\n",
      "File \u001b[1;32mc:\\Users\\Siba785\\Anaconda3\\envs\\min_data_sci\\lib\\site-packages\\pandas\\core\\construction.py:652\u001b[0m, in \u001b[0;36m_sanitize_ndim\u001b[1;34m(result, data, dtype, index, allow_2d)\u001b[0m\n\u001b[0;32m    650\u001b[0m     \u001b[39mif\u001b[39;00m allow_2d:\n\u001b[0;32m    651\u001b[0m         \u001b[39mreturn\u001b[39;00m result\n\u001b[1;32m--> 652\u001b[0m     \u001b[39mraise\u001b[39;00m \u001b[39mValueError\u001b[39;00m(\u001b[39m\"\u001b[39m\u001b[39mData must be 1-dimensional\u001b[39m\u001b[39m\"\u001b[39m)\n\u001b[0;32m    653\u001b[0m \u001b[39mif\u001b[39;00m is_object_dtype(dtype) \u001b[39mand\u001b[39;00m \u001b[39misinstance\u001b[39m(dtype, ExtensionDtype):\n\u001b[0;32m    654\u001b[0m     \u001b[39m# i.e. PandasDtype(\"O\")\u001b[39;00m\n\u001b[0;32m    656\u001b[0m     result \u001b[39m=\u001b[39m com\u001b[39m.\u001b[39masarray_tuplesafe(data, dtype\u001b[39m=\u001b[39mnp\u001b[39m.\u001b[39mdtype(\u001b[39m\"\u001b[39m\u001b[39mobject\u001b[39m\u001b[39m\"\u001b[39m))\n",
      "\u001b[1;31mValueError\u001b[0m: Data must be 1-dimensional"
     ]
    }
   ],
   "source": [
    "sns.lineplot(\n",
    "    data = unstacked_ie_df,\n",
    "    x = 'Time',\n",
    "    y = 'total_energy'\n",
    ");"
   ]
  },
  {
   "cell_type": "code",
   "execution_count": null,
   "metadata": {},
   "outputs": [],
   "source": []
  }
 ],
 "metadata": {
  "kernelspec": {
   "display_name": "Python 3.9.0 ('min_data_sci')",
   "language": "python",
   "name": "python3"
  },
  "language_info": {
   "codemirror_mode": {
    "name": "ipython",
    "version": 3
   },
   "file_extension": ".py",
   "mimetype": "text/x-python",
   "name": "python",
   "nbconvert_exporter": "python",
   "pygments_lexer": "ipython3",
   "version": "3.9.0"
  },
  "orig_nbformat": 4,
  "vscode": {
   "interpreter": {
    "hash": "3fd59f9339ee61c3d59ae4516a489afe4f701461fcab58129cc35a089ef68c67"
   }
  }
 },
 "nbformat": 4,
 "nbformat_minor": 2
}
